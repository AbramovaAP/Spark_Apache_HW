{
 "cells": [
  {
   "cell_type": "markdown",
   "id": "0589b81a",
   "metadata": {
    "id": "0589b81a"
   },
   "source": [
    "## Домашнее задание 1\n",
    "Найти самую длинную последовательность упорядоченных чисел в RDD и вывести ее"
   ]
  },
  {
   "cell_type": "code",
   "execution_count": 1,
   "id": "aa0b34e7",
   "metadata": {
    "id": "aa0b34e7"
   },
   "outputs": [
    {
     "name": "stdout",
     "output_type": "stream",
     "text": [
      "Note: you may need to restart the kernel to use updated packages.\n"
     ]
    }
   ],
   "source": [
    "%pip install pyspark >> None\n",
    "import pyspark\n",
    "from pyspark import SparkContext\n"
   ]
  },
  {
   "cell_type": "code",
   "execution_count": null,
   "id": "0853550b",
   "metadata": {
    "colab": {
     "base_uri": "https://localhost:8080/"
    },
    "id": "0853550b",
    "outputId": "5be6285a-c2fd-4a30-fd2e-46359cd530b1"
   },
   "outputs": [
    {
     "name": "stdout",
     "output_type": "stream",
     "text": [
      "[[30, 150, 180], [-10, 56], [34], [24, 45, 67, 123, 150], [44], [32, 66, 77, 88]]\n"
     ]
    }
   ],
   "source": [
    "# разбиение данных на упорядоченные последовательности\n",
    "data = [30, 150, 180, -10, 56, 34, 24, 45, 67, 123, 150, 44, 32, 66, 77, 88]\n",
    "sequences = []\n",
    "seq = [data[0]]\n",
    "for x in data[1:]:\n",
    "    if x >= seq[-1]:\n",
    "        seq.append(x)\n",
    "    else:\n",
    "        sequences.append(seq)\n",
    "        seq = [x]\n",
    "if seq:\n",
    "    sequences.append(seq)\n",
    "\n",
    "print(sequences) "
   ]
  },
  {
   "cell_type": "code",
   "execution_count": 3,
   "id": "973c18f9",
   "metadata": {
    "colab": {
     "base_uri": "https://localhost:8080/"
    },
    "id": "973c18f9",
    "outputId": "b3c35b24-4c91-402d-940f-2d2e6c93d5cf"
   },
   "outputs": [
    {
     "name": "stdout",
     "output_type": "stream",
     "text": [
      "[24, 45, 67, 123, 150]\n"
     ]
    }
   ],
   "source": [
    "# поиск последовательности максимальной длины\n",
    "sc = SparkContext(\"local\", \"LongestSequence\")\n",
    "rdd = sc.parallelize(sequences)\n",
    "longest = rdd.max(key=lambda x: len(x))\n",
    "print(longest)\n",
    "\n",
    "sc.stop()"
   ]
  }
 ],
 "metadata": {
  "colab": {
   "provenance": []
  },
  "kernelspec": {
   "display_name": "Python 3",
   "language": "python",
   "name": "python3"
  },
  "language_info": {
   "codemirror_mode": {
    "name": "ipython",
    "version": 3
   },
   "file_extension": ".py",
   "mimetype": "text/x-python",
   "name": "python",
   "nbconvert_exporter": "python",
   "pygments_lexer": "ipython3",
   "version": "3.11.8"
  }
 },
 "nbformat": 4,
 "nbformat_minor": 5
}
