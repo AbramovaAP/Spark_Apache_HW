{
  "cells": [
    {
      "cell_type": "markdown",
      "metadata": {
        "id": "J52NJQWaqdI2"
      },
      "source": [
        "# Домашнее задание 4\n",
        "\n",
        "*Условие*: используйте источник rate, напишите код, который создаст дополнительный столбец, который будет выводить сумму только нечётных чисел."
      ]
    },
    {
      "cell_type": "code",
      "execution_count": 13,
      "metadata": {
        "id": "z1v5JrOEm76t"
      },
      "outputs": [],
      "source": [
        "import pyspark\n",
        "from pyspark.sql import SparkSession\n",
        "from pyspark.sql.functions import col, when, sum as _sum"
      ]
    },
    {
      "cell_type": "code",
      "execution_count": 17,
      "metadata": {
        "colab": {
          "base_uri": "https://localhost:8080/"
        },
        "id": "tbZSUF60py3l",
        "outputId": "8092bdb0-5a66-484d-8746-f7fe70a4756b"
      },
      "outputs": [
        {
          "name": "stdout",
          "output_type": "stream",
          "text": [
            "+--------------------+-------+\n",
            "|           timestamp|odd_sum|\n",
            "+--------------------+-------+\n",
            "|2024-11-06 13:26:...|      5|\n",
            "|2024-11-06 13:26:...|      0|\n",
            "|2024-11-06 13:26:...|      0|\n",
            "|2024-11-06 13:26:...|      0|\n",
            "|2024-11-06 13:26:...|      3|\n",
            "|2024-11-06 13:25:...|      1|\n",
            "|2024-11-06 13:25:...|      0|\n",
            "|2024-11-06 13:25:...|      0|\n",
            "|2024-11-06 13:26:...|      7|\n",
            "|2024-11-06 13:26:...|      0|\n",
            "|2024-11-06 13:26:...|      9|\n",
            "|2024-11-06 13:26:...|     13|\n",
            "|2024-11-06 13:26:...|      0|\n",
            "|2024-11-06 13:26:...|     11|\n",
            "|2024-11-06 13:26:...|      0|\n",
            "|2024-11-06 13:26:...|      0|\n",
            "|2024-11-06 13:26:...|     15|\n",
            "+--------------------+-------+\n",
            "\n"
          ]
        }
      ],
      "source": [
        "# Создание SparkSession\n",
        "spark = SparkSession.builder \\\n",
        "    .appName(\"StructuredStreamingExample\") \\\n",
        "    .getOrCreate()\n",
        "\n",
        "# Создание источника rate\n",
        "rate_df = spark.readStream \\\n",
        "    .format(\"rate\") \\\n",
        "    .option(\"rowsPerSecond\", 1) \\\n",
        "    .load()\n",
        "\n",
        "# Добавление нового столбца с суммой нечётных чисел\n",
        "result_df = rate_df.selectExpr(\"timestamp\", \"value\") \\\n",
        "    .withColumn(\"is_odd\", when(col(\"value\") % 2 != 0, col(\"value\")).otherwise(0)) \\\n",
        "    .groupBy(\"timestamp\") \\\n",
        "    .agg(_sum(\"is_odd\").alias(\"odd_sum\"))\n",
        "\n",
        "# Запуск потока\n",
        "query = result_df.writeStream \\\n",
        "    .outputMode(\"update\") \\\n",
        "    .format(\"memory\") \\\n",
        "    .queryName(\"odd_sum_table\") \\\n",
        "    .start()\n",
        "\n",
        "# Ограничиваем время работы в 30 секунд\n",
        "query.awaitTermination(30)\n",
        "\n",
        "# Получение результатов из памяти\n",
        "results_df = spark.sql(\"SELECT * FROM odd_sum_table\")\n",
        "results_df.show()\n",
        "\n",
        "# Завершение работы SparkSession\n",
        "spark.stop()"
      ]
    }
  ],
  "metadata": {
    "colab": {
      "provenance": []
    },
    "kernelspec": {
      "display_name": "Python 3",
      "name": "python3"
    },
    "language_info": {
      "name": "python"
    }
  },
  "nbformat": 4,
  "nbformat_minor": 0
}
