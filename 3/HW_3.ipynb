{
  "cells": [
    {
      "cell_type": "markdown",
      "id": "be3c139d",
      "metadata": {
        "id": "be3c139d"
      },
      "source": [
        "# Spark Apache (семинары)\n",
        "\n",
        "## Урок 3. Инструменты работы и визуализации ч.2\n",
        "\n",
        "Условие: есть набор данных о продажах продуктов с информацией о дате продаж, категории продукта, количестве и выручке от продаж.\n",
        "\n",
        "Используя Apache Spark, загрузите предоставленный набор данных в DataFrame (пример данных ниже).\n",
        "\n",
        "```\n",
        "(\"2023-11-20\", \"Electronics\", 100, 12000),\n",
        "(\"2023-11-21\", \"Electronics\", 110, 13000),\n",
        "(\"2023-11-22\", \"Electronics\", 105, 12500),\n",
        "(\"2023-11-20\", \"Clothing\", 300, 15000),\n",
        "(\"2023-11-21\", \"Clothing\", 280, 14000),\n",
        "(\"2023-11-22\", \"Clothing\", 320, 16000),\n",
        "(\"2023-11-20\", \"Books\", 150, 9000),\n",
        "(\"2023-11-21\", \"Books\", 200, 12000),\n",
        "(\"2023-11-22\", \"Books\", 180, 10000)\n",
        "```\n",
        "\n",
        "Столбцы: \"date\", \"category\", \"quantity\", \"revenue\".\n",
        "\n",
        "С использованием оконных функций, рассчитайте среднее выручки от продаж для каждой категории продукта.\n",
        "\n",
        "Примените операцию pivot для того, чтобы преобразовать полученные данные таким образом, чтобы в качестве строк были категории продуктов, в качестве столбцов были дни, а значениями были средние значения выручки от продаж за соответствующий день"
      ]
    },
    {
      "cell_type": "code",
      "execution_count": 1,
      "id": "626acf2e",
      "metadata": {
        "id": "626acf2e"
      },
      "outputs": [],
      "source": [
        "%pip install pyspark django >> None"
      ]
    },
    {
      "cell_type": "code",
      "execution_count": 17,
      "id": "526640c5",
      "metadata": {
        "colab": {
          "base_uri": "https://localhost:8080/"
        },
        "id": "526640c5",
        "outputId": "ba613e86-5e6d-486d-bb8e-794558680811"
      },
      "outputs": [
        {
          "output_type": "stream",
          "name": "stdout",
          "text": [
            "+-----------+------------------+\n",
            "|   category|       avg_revenue|\n",
            "+-----------+------------------+\n",
            "|      Books|10333.333333333334|\n",
            "|   Clothing|           15000.0|\n",
            "|Electronics|           12500.0|\n",
            "+-----------+------------------+\n",
            "\n"
          ]
        }
      ],
      "source": [
        "from pyspark.sql import SparkSession\n",
        "from pyspark.sql.types import DoubleType, DateType\n",
        "from pyspark.sql.functions import avg, col\n",
        "from pyspark.sql.window import Window\n",
        "import pyspark.sql.functions as fn\n",
        "\n",
        "# Создание Spark сессии\n",
        "spark = SparkSession.builder.appName(\"HW_3\").getOrCreate()\n",
        "\n",
        "# Исходные данные\n",
        "data = [(\"2023-11-20\", \"Electronics\", 100, 12000),\n",
        "        (\"2023-11-21\", \"Electronics\", 110, 13000),\n",
        "        (\"2023-11-22\", \"Electronics\", 105, 12500),\n",
        "        (\"2023-11-20\", \"Clothing\", 300, 15000),\n",
        "        (\"2023-11-21\", \"Clothing\", 280, 14000),\n",
        "        (\"2023-11-22\", \"Clothing\", 320, 16000),\n",
        "        (\"2023-11-20\", \"Books\", 150, 9000),\n",
        "        (\"2023-11-21\", \"Books\", 200, 12000),\n",
        "        (\"2023-11-22\", \"Books\", 180, 10000)]\n",
        "\n",
        "# Создание DataFrame\n",
        "columns = [\"date\", \"category\", \"quantity\", \"revenue\"]\n",
        "df = spark.createDataFrame(data, columns)\n",
        "\n",
        "# Преобразование столбца \"date\" в тип Date\n",
        "df = df.withColumn(\"date\", col(\"date\").cast(DateType()))\n",
        "\n",
        "# Определение оконной спецификации\n",
        "window_spec = Window.partitionBy(\"category\")\n",
        "\n",
        "# Оконная функция: вычисление средней выручки от продаж для каждой категории продукта\n",
        "avg_revenue = fn.avg(\"revenue\").over(window_spec)\n",
        "\n",
        "# Применение оконной функции и приведение к double\n",
        "result_df = df.withColumn(\"avg_revenue\", avg_revenue.cast(DoubleType()))\n",
        "\n",
        "# Отображение результатов: используем distinct() для исключения повторов\n",
        "result_df.select([\"category\", \"avg_revenue\"]).distinct().show()"
      ]
    },
    {
      "cell_type": "code",
      "execution_count": 18,
      "id": "ab8c39f6",
      "metadata": {
        "colab": {
          "base_uri": "https://localhost:8080/"
        },
        "id": "ab8c39f6",
        "outputId": "0d4e81a8-12d6-4bdc-99df-e2e16d111da7"
      },
      "outputs": [
        {
          "output_type": "stream",
          "name": "stdout",
          "text": [
            "+-----------+----------+----------+----------+\n",
            "|   category|2023-11-20|2023-11-21|2023-11-22|\n",
            "+-----------+----------+----------+----------+\n",
            "|      Books|    9000.0|   12000.0|   10000.0|\n",
            "|   Clothing|   15000.0|   14000.0|   16000.0|\n",
            "|Electronics|   12000.0|   13000.0|   12500.0|\n",
            "+-----------+----------+----------+----------+\n",
            "\n"
          ]
        }
      ],
      "source": [
        "# Определение при помощи функции pivot средних значений выручки от продаж по категориям за соответствующий день\n",
        "pivot_df = df.groupBy(\"category\").pivot(\"date\").agg(fn.avg(\"revenue\")).orderBy(\"category\")\n",
        "\n",
        "# Вывод результатов\n",
        "pivot_df.show()\n",
        "\n",
        "# Завершение работы SparkSession\n",
        "spark.stop()"
      ]
    },
    {
      "cell_type": "code",
      "execution_count": null,
      "id": "4d84c51b",
      "metadata": {
        "id": "4d84c51b"
      },
      "outputs": [],
      "source": []
    },
    {
      "cell_type": "code",
      "execution_count": null,
      "id": "595478e3",
      "metadata": {
        "id": "595478e3"
      },
      "outputs": [],
      "source": []
    },
    {
      "cell_type": "code",
      "execution_count": null,
      "id": "64569685",
      "metadata": {
        "id": "64569685"
      },
      "outputs": [],
      "source": []
    },
    {
      "cell_type": "code",
      "execution_count": null,
      "id": "bbc3af90",
      "metadata": {
        "id": "bbc3af90"
      },
      "outputs": [],
      "source": []
    }
  ],
  "metadata": {
    "kernelspec": {
      "display_name": "Python 3 (ipykernel)",
      "language": "python",
      "name": "python3"
    },
    "language_info": {
      "codemirror_mode": {
        "name": "ipython",
        "version": 3
      },
      "file_extension": ".py",
      "mimetype": "text/x-python",
      "name": "python",
      "nbconvert_exporter": "python",
      "pygments_lexer": "ipython3",
      "version": "3.8.10"
    },
    "colab": {
      "provenance": []
    }
  },
  "nbformat": 4,
  "nbformat_minor": 5
}